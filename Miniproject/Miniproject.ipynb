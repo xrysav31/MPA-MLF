{
  "nbformat": 4,
  "nbformat_minor": 0,
  "metadata": {
    "colab": {
      "provenance": [],
      "gpuType": "T4",
      "mount_file_id": "138RGPiePOTJb_korCVknoo4sKL7N4hNb",
      "authorship_tag": "ABX9TyOfbtaoDobWnvcxFTNDs4sR",
      "include_colab_link": true
    },
    "kernelspec": {
      "name": "python3",
      "display_name": "Python 3"
    },
    "language_info": {
      "name": "python"
    },
    "accelerator": "GPU"
  },
  "cells": [
    {
      "cell_type": "markdown",
      "metadata": {
        "id": "view-in-github",
        "colab_type": "text"
      },
      "source": [
        "<a href=\"https://colab.research.google.com/github/xrysav31/MPA-MLF/blob/main/Miniproject/Miniproject.ipynb\" target=\"_parent\"><img src=\"https://colab.research.google.com/assets/colab-badge.svg\" alt=\"Open In Colab\"/></a>"
      ]
    },
    {
      "cell_type": "markdown",
      "source": [
        "# MPA-MLF - Miniproject"
      ],
      "metadata": {
        "id": "zwBDo3k7WzQ3"
      }
    },
    {
      "cell_type": "markdown",
      "source": [
        "## Data examination"
      ],
      "metadata": {
        "id": "PjgeGleVYV1m"
      }
    },
    {
      "cell_type": "code",
      "source": [
        "from google.colab import drive\n",
        "drive.mount('/content/drive')"
      ],
      "metadata": {
        "colab": {
          "base_uri": "https://localhost:8080/"
        },
        "id": "ZZBbl3YUXl4n",
        "outputId": "941ff946-6e6b-4feb-dc74-4365d7b43920"
      },
      "execution_count": 41,
      "outputs": [
        {
          "output_type": "stream",
          "name": "stdout",
          "text": [
            "Drive already mounted at /content/drive; to attempt to forcibly remount, call drive.mount(\"/content/drive\", force_remount=True).\n"
          ]
        }
      ]
    },
    {
      "cell_type": "code",
      "source": [
        "!pip install kneed"
      ],
      "metadata": {
        "colab": {
          "base_uri": "https://localhost:8080/"
        },
        "id": "Y6cmvRJzujML",
        "outputId": "c83968f9-900d-4101-d21b-59b0efd5bd21"
      },
      "execution_count": 42,
      "outputs": [
        {
          "output_type": "stream",
          "name": "stdout",
          "text": [
            "Requirement already satisfied: kneed in /usr/local/lib/python3.10/dist-packages (0.8.5)\n",
            "Requirement already satisfied: numpy>=1.14.2 in /usr/local/lib/python3.10/dist-packages (from kneed) (1.25.2)\n",
            "Requirement already satisfied: scipy>=1.0.0 in /usr/local/lib/python3.10/dist-packages (from kneed) (1.11.4)\n"
          ]
        }
      ]
    },
    {
      "cell_type": "code",
      "source": [
        "import matplotlib.pyplot as plt\n",
        "import copy\n",
        "import numpy as np\n",
        "from numpy.linalg import norm\n",
        "import pandas as pd\n",
        "from sklearn.preprocessing import StandardScaler\n",
        "from kneed import KneeLocator"
      ],
      "metadata": {
        "id": "YdjCAo47ZiUS"
      },
      "execution_count": 43,
      "outputs": []
    },
    {
      "cell_type": "markdown",
      "source": [
        "## Data preprocessing"
      ],
      "metadata": {
        "id": "MNH6nMwjYske"
      }
    },
    {
      "cell_type": "code",
      "source": [
        "loaded_points = pd.read_csv('/content/drive/MyDrive/Colab Notebooks/Data_prepared_final/Data_prepared_final.csv')\n",
        "loaded_points = loaded_points.drop(columns=['Unnamed: 0','time [s]'])"
      ],
      "metadata": {
        "id": "11tTlUQvZyak"
      },
      "execution_count": 44,
      "outputs": []
    },
    {
      "cell_type": "code",
      "source": [
        "points=np.asarray(loaded_points)\n",
        "loaded_points.head()"
      ],
      "metadata": {
        "colab": {
          "base_uri": "https://localhost:8080/",
          "height": 206
        },
        "id": "hXlpp0IvcTBQ",
        "outputId": "3a21659a-c3fc-46a7-cbf6-44941ed9086d"
      },
      "execution_count": 45,
      "outputs": [
        {
          "output_type": "execute_result",
          "data": {
            "text/plain": [
              "   cfo_meas   cfo_demod  gain_imb     iq_imb     or_off  quadr_err    ph_err  \\\n",
              "0      -414 -421.076324  0.076097 -46.987598 -27.219631   0.104362  1.129778   \n",
              "1      -414 -423.571686  0.069879 -47.852627 -26.934967   0.053158  1.050010   \n",
              "2      -414 -421.033936  0.061466 -48.968697 -27.130722  -0.045913  0.989473   \n",
              "3      -414 -420.103546  0.078836 -46.756973 -27.005318   0.081583  1.085091   \n",
              "4      -432 -420.781097  0.066053 -47.048218 -27.358521   0.081920  1.023701   \n",
              "\n",
              "    mag_err       evm  \n",
              "0  0.440299  2.059935  \n",
              "1  0.431240  1.815053  \n",
              "2  0.447790  1.762053  \n",
              "3  0.443476  1.894204  \n",
              "4  0.465225  1.805841  "
            ],
            "text/html": [
              "\n",
              "  <div id=\"df-d767072c-267f-402b-98cc-4d06dcff35d9\" class=\"colab-df-container\">\n",
              "    <div>\n",
              "<style scoped>\n",
              "    .dataframe tbody tr th:only-of-type {\n",
              "        vertical-align: middle;\n",
              "    }\n",
              "\n",
              "    .dataframe tbody tr th {\n",
              "        vertical-align: top;\n",
              "    }\n",
              "\n",
              "    .dataframe thead th {\n",
              "        text-align: right;\n",
              "    }\n",
              "</style>\n",
              "<table border=\"1\" class=\"dataframe\">\n",
              "  <thead>\n",
              "    <tr style=\"text-align: right;\">\n",
              "      <th></th>\n",
              "      <th>cfo_meas</th>\n",
              "      <th>cfo_demod</th>\n",
              "      <th>gain_imb</th>\n",
              "      <th>iq_imb</th>\n",
              "      <th>or_off</th>\n",
              "      <th>quadr_err</th>\n",
              "      <th>ph_err</th>\n",
              "      <th>mag_err</th>\n",
              "      <th>evm</th>\n",
              "    </tr>\n",
              "  </thead>\n",
              "  <tbody>\n",
              "    <tr>\n",
              "      <th>0</th>\n",
              "      <td>-414</td>\n",
              "      <td>-421.076324</td>\n",
              "      <td>0.076097</td>\n",
              "      <td>-46.987598</td>\n",
              "      <td>-27.219631</td>\n",
              "      <td>0.104362</td>\n",
              "      <td>1.129778</td>\n",
              "      <td>0.440299</td>\n",
              "      <td>2.059935</td>\n",
              "    </tr>\n",
              "    <tr>\n",
              "      <th>1</th>\n",
              "      <td>-414</td>\n",
              "      <td>-423.571686</td>\n",
              "      <td>0.069879</td>\n",
              "      <td>-47.852627</td>\n",
              "      <td>-26.934967</td>\n",
              "      <td>0.053158</td>\n",
              "      <td>1.050010</td>\n",
              "      <td>0.431240</td>\n",
              "      <td>1.815053</td>\n",
              "    </tr>\n",
              "    <tr>\n",
              "      <th>2</th>\n",
              "      <td>-414</td>\n",
              "      <td>-421.033936</td>\n",
              "      <td>0.061466</td>\n",
              "      <td>-48.968697</td>\n",
              "      <td>-27.130722</td>\n",
              "      <td>-0.045913</td>\n",
              "      <td>0.989473</td>\n",
              "      <td>0.447790</td>\n",
              "      <td>1.762053</td>\n",
              "    </tr>\n",
              "    <tr>\n",
              "      <th>3</th>\n",
              "      <td>-414</td>\n",
              "      <td>-420.103546</td>\n",
              "      <td>0.078836</td>\n",
              "      <td>-46.756973</td>\n",
              "      <td>-27.005318</td>\n",
              "      <td>0.081583</td>\n",
              "      <td>1.085091</td>\n",
              "      <td>0.443476</td>\n",
              "      <td>1.894204</td>\n",
              "    </tr>\n",
              "    <tr>\n",
              "      <th>4</th>\n",
              "      <td>-432</td>\n",
              "      <td>-420.781097</td>\n",
              "      <td>0.066053</td>\n",
              "      <td>-47.048218</td>\n",
              "      <td>-27.358521</td>\n",
              "      <td>0.081920</td>\n",
              "      <td>1.023701</td>\n",
              "      <td>0.465225</td>\n",
              "      <td>1.805841</td>\n",
              "    </tr>\n",
              "  </tbody>\n",
              "</table>\n",
              "</div>\n",
              "    <div class=\"colab-df-buttons\">\n",
              "\n",
              "  <div class=\"colab-df-container\">\n",
              "    <button class=\"colab-df-convert\" onclick=\"convertToInteractive('df-d767072c-267f-402b-98cc-4d06dcff35d9')\"\n",
              "            title=\"Convert this dataframe to an interactive table.\"\n",
              "            style=\"display:none;\">\n",
              "\n",
              "  <svg xmlns=\"http://www.w3.org/2000/svg\" height=\"24px\" viewBox=\"0 -960 960 960\">\n",
              "    <path d=\"M120-120v-720h720v720H120Zm60-500h600v-160H180v160Zm220 220h160v-160H400v160Zm0 220h160v-160H400v160ZM180-400h160v-160H180v160Zm440 0h160v-160H620v160ZM180-180h160v-160H180v160Zm440 0h160v-160H620v160Z\"/>\n",
              "  </svg>\n",
              "    </button>\n",
              "\n",
              "  <style>\n",
              "    .colab-df-container {\n",
              "      display:flex;\n",
              "      gap: 12px;\n",
              "    }\n",
              "\n",
              "    .colab-df-convert {\n",
              "      background-color: #E8F0FE;\n",
              "      border: none;\n",
              "      border-radius: 50%;\n",
              "      cursor: pointer;\n",
              "      display: none;\n",
              "      fill: #1967D2;\n",
              "      height: 32px;\n",
              "      padding: 0 0 0 0;\n",
              "      width: 32px;\n",
              "    }\n",
              "\n",
              "    .colab-df-convert:hover {\n",
              "      background-color: #E2EBFA;\n",
              "      box-shadow: 0px 1px 2px rgba(60, 64, 67, 0.3), 0px 1px 3px 1px rgba(60, 64, 67, 0.15);\n",
              "      fill: #174EA6;\n",
              "    }\n",
              "\n",
              "    .colab-df-buttons div {\n",
              "      margin-bottom: 4px;\n",
              "    }\n",
              "\n",
              "    [theme=dark] .colab-df-convert {\n",
              "      background-color: #3B4455;\n",
              "      fill: #D2E3FC;\n",
              "    }\n",
              "\n",
              "    [theme=dark] .colab-df-convert:hover {\n",
              "      background-color: #434B5C;\n",
              "      box-shadow: 0px 1px 3px 1px rgba(0, 0, 0, 0.15);\n",
              "      filter: drop-shadow(0px 1px 2px rgba(0, 0, 0, 0.3));\n",
              "      fill: #FFFFFF;\n",
              "    }\n",
              "  </style>\n",
              "\n",
              "    <script>\n",
              "      const buttonEl =\n",
              "        document.querySelector('#df-d767072c-267f-402b-98cc-4d06dcff35d9 button.colab-df-convert');\n",
              "      buttonEl.style.display =\n",
              "        google.colab.kernel.accessAllowed ? 'block' : 'none';\n",
              "\n",
              "      async function convertToInteractive(key) {\n",
              "        const element = document.querySelector('#df-d767072c-267f-402b-98cc-4d06dcff35d9');\n",
              "        const dataTable =\n",
              "          await google.colab.kernel.invokeFunction('convertToInteractive',\n",
              "                                                    [key], {});\n",
              "        if (!dataTable) return;\n",
              "\n",
              "        const docLinkHtml = 'Like what you see? Visit the ' +\n",
              "          '<a target=\"_blank\" href=https://colab.research.google.com/notebooks/data_table.ipynb>data table notebook</a>'\n",
              "          + ' to learn more about interactive tables.';\n",
              "        element.innerHTML = '';\n",
              "        dataTable['output_type'] = 'display_data';\n",
              "        await google.colab.output.renderOutput(dataTable, element);\n",
              "        const docLink = document.createElement('div');\n",
              "        docLink.innerHTML = docLinkHtml;\n",
              "        element.appendChild(docLink);\n",
              "      }\n",
              "    </script>\n",
              "  </div>\n",
              "\n",
              "\n",
              "<div id=\"df-3f5edf7a-11db-4b2b-b76a-3e9a4e1f30eb\">\n",
              "  <button class=\"colab-df-quickchart\" onclick=\"quickchart('df-3f5edf7a-11db-4b2b-b76a-3e9a4e1f30eb')\"\n",
              "            title=\"Suggest charts\"\n",
              "            style=\"display:none;\">\n",
              "\n",
              "<svg xmlns=\"http://www.w3.org/2000/svg\" height=\"24px\"viewBox=\"0 0 24 24\"\n",
              "     width=\"24px\">\n",
              "    <g>\n",
              "        <path d=\"M19 3H5c-1.1 0-2 .9-2 2v14c0 1.1.9 2 2 2h14c1.1 0 2-.9 2-2V5c0-1.1-.9-2-2-2zM9 17H7v-7h2v7zm4 0h-2V7h2v10zm4 0h-2v-4h2v4z\"/>\n",
              "    </g>\n",
              "</svg>\n",
              "  </button>\n",
              "\n",
              "<style>\n",
              "  .colab-df-quickchart {\n",
              "      --bg-color: #E8F0FE;\n",
              "      --fill-color: #1967D2;\n",
              "      --hover-bg-color: #E2EBFA;\n",
              "      --hover-fill-color: #174EA6;\n",
              "      --disabled-fill-color: #AAA;\n",
              "      --disabled-bg-color: #DDD;\n",
              "  }\n",
              "\n",
              "  [theme=dark] .colab-df-quickchart {\n",
              "      --bg-color: #3B4455;\n",
              "      --fill-color: #D2E3FC;\n",
              "      --hover-bg-color: #434B5C;\n",
              "      --hover-fill-color: #FFFFFF;\n",
              "      --disabled-bg-color: #3B4455;\n",
              "      --disabled-fill-color: #666;\n",
              "  }\n",
              "\n",
              "  .colab-df-quickchart {\n",
              "    background-color: var(--bg-color);\n",
              "    border: none;\n",
              "    border-radius: 50%;\n",
              "    cursor: pointer;\n",
              "    display: none;\n",
              "    fill: var(--fill-color);\n",
              "    height: 32px;\n",
              "    padding: 0;\n",
              "    width: 32px;\n",
              "  }\n",
              "\n",
              "  .colab-df-quickchart:hover {\n",
              "    background-color: var(--hover-bg-color);\n",
              "    box-shadow: 0 1px 2px rgba(60, 64, 67, 0.3), 0 1px 3px 1px rgba(60, 64, 67, 0.15);\n",
              "    fill: var(--button-hover-fill-color);\n",
              "  }\n",
              "\n",
              "  .colab-df-quickchart-complete:disabled,\n",
              "  .colab-df-quickchart-complete:disabled:hover {\n",
              "    background-color: var(--disabled-bg-color);\n",
              "    fill: var(--disabled-fill-color);\n",
              "    box-shadow: none;\n",
              "  }\n",
              "\n",
              "  .colab-df-spinner {\n",
              "    border: 2px solid var(--fill-color);\n",
              "    border-color: transparent;\n",
              "    border-bottom-color: var(--fill-color);\n",
              "    animation:\n",
              "      spin 1s steps(1) infinite;\n",
              "  }\n",
              "\n",
              "  @keyframes spin {\n",
              "    0% {\n",
              "      border-color: transparent;\n",
              "      border-bottom-color: var(--fill-color);\n",
              "      border-left-color: var(--fill-color);\n",
              "    }\n",
              "    20% {\n",
              "      border-color: transparent;\n",
              "      border-left-color: var(--fill-color);\n",
              "      border-top-color: var(--fill-color);\n",
              "    }\n",
              "    30% {\n",
              "      border-color: transparent;\n",
              "      border-left-color: var(--fill-color);\n",
              "      border-top-color: var(--fill-color);\n",
              "      border-right-color: var(--fill-color);\n",
              "    }\n",
              "    40% {\n",
              "      border-color: transparent;\n",
              "      border-right-color: var(--fill-color);\n",
              "      border-top-color: var(--fill-color);\n",
              "    }\n",
              "    60% {\n",
              "      border-color: transparent;\n",
              "      border-right-color: var(--fill-color);\n",
              "    }\n",
              "    80% {\n",
              "      border-color: transparent;\n",
              "      border-right-color: var(--fill-color);\n",
              "      border-bottom-color: var(--fill-color);\n",
              "    }\n",
              "    90% {\n",
              "      border-color: transparent;\n",
              "      border-bottom-color: var(--fill-color);\n",
              "    }\n",
              "  }\n",
              "</style>\n",
              "\n",
              "  <script>\n",
              "    async function quickchart(key) {\n",
              "      const quickchartButtonEl =\n",
              "        document.querySelector('#' + key + ' button');\n",
              "      quickchartButtonEl.disabled = true;  // To prevent multiple clicks.\n",
              "      quickchartButtonEl.classList.add('colab-df-spinner');\n",
              "      try {\n",
              "        const charts = await google.colab.kernel.invokeFunction(\n",
              "            'suggestCharts', [key], {});\n",
              "      } catch (error) {\n",
              "        console.error('Error during call to suggestCharts:', error);\n",
              "      }\n",
              "      quickchartButtonEl.classList.remove('colab-df-spinner');\n",
              "      quickchartButtonEl.classList.add('colab-df-quickchart-complete');\n",
              "    }\n",
              "    (() => {\n",
              "      let quickchartButtonEl =\n",
              "        document.querySelector('#df-3f5edf7a-11db-4b2b-b76a-3e9a4e1f30eb button');\n",
              "      quickchartButtonEl.style.display =\n",
              "        google.colab.kernel.accessAllowed ? 'block' : 'none';\n",
              "    })();\n",
              "  </script>\n",
              "</div>\n",
              "    </div>\n",
              "  </div>\n"
            ],
            "application/vnd.google.colaboratory.intrinsic+json": {
              "type": "dataframe",
              "variable_name": "loaded_points",
              "summary": "{\n  \"name\": \"loaded_points\",\n  \"rows\": 19200,\n  \"fields\": [\n    {\n      \"column\": \"cfo_meas\",\n      \"properties\": {\n        \"dtype\": \"number\",\n        \"std\": 411,\n        \"min\": -1350,\n        \"max\": 720,\n        \"num_unique_values\": 113,\n        \"samples\": [\n          -1314,\n          -324,\n          54\n        ],\n        \"semantic_type\": \"\",\n        \"description\": \"\"\n      }\n    },\n    {\n      \"column\": \"cfo_demod\",\n      \"properties\": {\n        \"dtype\": \"number\",\n        \"std\": 412.65315235526083,\n        \"min\": -1362.15270996,\n        \"max\": 737.512390137,\n        \"num_unique_values\": 19191,\n        \"samples\": [\n          -412.818695068,\n          -199.721588135,\n          -494.857971191\n        ],\n        \"semantic_type\": \"\",\n        \"description\": \"\"\n      }\n    },\n    {\n      \"column\": \"gain_imb\",\n      \"properties\": {\n        \"dtype\": \"number\",\n        \"std\": 0.04680410232373226,\n        \"min\": -0.32138955593,\n        \"max\": 0.17638450861,\n        \"num_unique_values\": 17819,\n        \"samples\": [\n          -0.03364435211,\n          0.10175066441,\n          -0.02721820772\n        ],\n        \"semantic_type\": \"\",\n        \"description\": \"\"\n      }\n    },\n    {\n      \"column\": \"iq_imb\",\n      \"properties\": {\n        \"dtype\": \"number\",\n        \"std\": 5.399075398914595,\n        \"min\": -56.2497940063,\n        \"max\": -28.4151382446,\n        \"num_unique_values\": 19142,\n        \"samples\": [\n          -46.0571098328,\n          -29.5953178406,\n          -31.7976036072\n        ],\n        \"semantic_type\": \"\",\n        \"description\": \"\"\n      }\n    },\n    {\n      \"column\": \"or_off\",\n      \"properties\": {\n        \"dtype\": \"number\",\n        \"std\": 3.7192651765977067,\n        \"min\": -40.7760276794,\n        \"max\": -26.306427002,\n        \"num_unique_values\": 19137,\n        \"samples\": [\n          -30.361158371,\n          -35.894241333,\n          -28.0481510162\n        ],\n        \"semantic_type\": \"\",\n        \"description\": \"\"\n      }\n    },\n    {\n      \"column\": \"quadr_err\",\n      \"properties\": {\n        \"dtype\": \"number\",\n        \"std\": 2.51102751142705,\n        \"min\": -4.32929468155,\n        \"max\": 3.34028530121,\n        \"num_unique_values\": 19118,\n        \"samples\": [\n          2.51053857803,\n          1.10234749317,\n          1.230509758\n        ],\n        \"semantic_type\": \"\",\n        \"description\": \"\"\n      }\n    },\n    {\n      \"column\": \"ph_err\",\n      \"properties\": {\n        \"dtype\": \"number\",\n        \"std\": 0.24056164089043092,\n        \"min\": 0.85571557283,\n        \"max\": 11.439540863,\n        \"num_unique_values\": 19146,\n        \"samples\": [\n          1.52252030373,\n          1.42117905617,\n          1.1075104475\n        ],\n        \"semantic_type\": \"\",\n        \"description\": \"\"\n      }\n    },\n    {\n      \"column\": \"mag_err\",\n      \"properties\": {\n        \"dtype\": \"number\",\n        \"std\": 0.9359431151828042,\n        \"min\": 0.38708582521,\n        \"max\": 10.5958108902,\n        \"num_unique_values\": 19186,\n        \"samples\": [\n          1.00213134289,\n          0.85735309124,\n          1.60532999039\n        ],\n        \"semantic_type\": \"\",\n        \"description\": \"\"\n      }\n    },\n    {\n      \"column\": \"evm\",\n      \"properties\": {\n        \"dtype\": \"number\",\n        \"std\": 0.8016629971722896,\n        \"min\": 1.64537537098,\n        \"max\": 19.1529712677,\n        \"num_unique_values\": 19163,\n        \"samples\": [\n          2.95332407951,\n          3.36171388626,\n          1.95155072212\n        ],\n        \"semantic_type\": \"\",\n        \"description\": \"\"\n      }\n    }\n  ]\n}"
            }
          },
          "metadata": {},
          "execution_count": 45
        }
      ]
    },
    {
      "cell_type": "code",
      "source": [
        "scaler = StandardScaler()\n",
        "points = scaler.fit_transform(points)"
      ],
      "metadata": {
        "id": "jv5vYOVRfdG3"
      },
      "execution_count": 46,
      "outputs": []
    },
    {
      "cell_type": "markdown",
      "source": [
        "## Model building and model training"
      ],
      "metadata": {
        "id": "ySxiWtEoZAkM"
      }
    },
    {
      "cell_type": "markdown",
      "source": [
        "### Build the model and fit it to the data"
      ],
      "metadata": {
        "id": "-DzXzjxTZB2z"
      }
    },
    {
      "cell_type": "code",
      "source": [
        "def initialize_clusters(points: np.array, k_clusters: int) -> np.array:\n",
        "    index = np.arange(points.shape[0])\n",
        "    np.random.shuffle(index)\n",
        "    req_index = index[:k_clusters]\n",
        "    m_points = points[req_index]\n",
        "    return m_points"
      ],
      "metadata": {
        "id": "EiGXZ6PId6kz"
      },
      "execution_count": 47,
      "outputs": []
    },
    {
      "cell_type": "code",
      "source": [
        "def calculate_metric(points: np.array, centroid: np.array) -> np.array:\n",
        "    metric = np.square(np.linalg.norm(points-centroid, axis=1))\n",
        "    return metric"
      ],
      "metadata": {
        "id": "I4ROVHcTgEDx"
      },
      "execution_count": 48,
      "outputs": []
    },
    {
      "cell_type": "code",
      "source": [
        "def compute_distances(points: np.array, centroids_points: np.array) -> np.array:\n",
        "    distance = np.asarray([calculate_metric(points, centroid) for centroid in centroids_points])\n",
        "    return distance"
      ],
      "metadata": {
        "id": "_zOkF8UngqLE"
      },
      "execution_count": 49,
      "outputs": []
    },
    {
      "cell_type": "code",
      "source": [
        "def assign_centroids(distances: np.array) -> np.array:\n",
        "    assigned_centroids = np.argmin(distances, axis=0)\n",
        "    return assigned_centroids"
      ],
      "metadata": {
        "id": "PhnzAeEng2Zj"
      },
      "execution_count": 50,
      "outputs": []
    },
    {
      "cell_type": "code",
      "source": [
        "def calculate_objective(cluster_belongs: np.array, distances: np.array) -> np.array:\n",
        "    sum_objective = np.sum(distances.T[np.arange(len(distances.T)), cluster_belongs])\n",
        "    return sum_objective"
      ],
      "metadata": {
        "id": "PtIXTy2chMpB"
      },
      "execution_count": 51,
      "outputs": []
    },
    {
      "cell_type": "code",
      "source": [
        "def calculate_new_centroids(points: np.array, clusters_belongs: np.array, n_of_clusters: int) -> np.array:\n",
        "    new_clusters = []\n",
        "    for cluster_id in range(n_of_clusters):\n",
        "        j = np.where(clusters_belongs == cluster_id)\n",
        "        points_sel = points[j]\n",
        "        new_clusters.append(np.mean(points_sel, axis=0))\n",
        "    return np.array(new_clusters)"
      ],
      "metadata": {
        "id": "f2tzsCTthbGO"
      },
      "execution_count": 52,
      "outputs": []
    },
    {
      "cell_type": "code",
      "source": [
        "def fit(points: np.array, n_of_centroids: int, n_of_oterations: int, error: float = 0.001) -> tuple:\n",
        "    centroid_points = initialize_clusters(points, n_of_centroids)\n",
        "    last_objective = 10000\n",
        "\n",
        "    for _ in range(n_of_oterations):\n",
        "        distance = compute_distances(points, centroid_points)\n",
        "        cluster_belong = np.argmin(distance, axis=0)\n",
        "\n",
        "        objective = calculate_objective(cluster_belong, distance)\n",
        "\n",
        "        if abs(last_objective - objective) < error:\n",
        "            break\n",
        "\n",
        "        last_objective = objective\n",
        "        centroid_points = calculate_new_centroids(points, cluster_belong, n_of_centroids)\n",
        "\n",
        "    return centroid_points, last_objective"
      ],
      "metadata": {
        "id": "3sESZPWFhfi0"
      },
      "execution_count": 53,
      "outputs": []
    },
    {
      "cell_type": "code",
      "source": [
        "k_all = range(1, 80)\n",
        "all_objective = []\n",
        "\n",
        "for i in k_all:\n",
        "    a, b = fit(points, i, 1000)\n",
        "    all_objective.append(b)"
      ],
      "metadata": {
        "id": "yA9AoMlxhsts"
      },
      "execution_count": 68,
      "outputs": []
    },
    {
      "cell_type": "code",
      "source": [
        "kneedle = KneeLocator(k_all, all_objective,S=1, curve='convex', direction='decreasing')\n",
        "print(\"Number of transmitters:\",kneedle.knee)"
      ],
      "metadata": {
        "colab": {
          "base_uri": "https://localhost:8080/"
        },
        "id": "MKDXy_IErOpV",
        "outputId": "82933103-d84a-499a-8208-8114e6b1153d"
      },
      "execution_count": 69,
      "outputs": [
        {
          "output_type": "stream",
          "name": "stdout",
          "text": [
            "Number of transmitters: 9\n"
          ]
        }
      ]
    },
    {
      "cell_type": "code",
      "source": [
        "plt.figure()\n",
        "plt.plot(k_all, all_objective)\n",
        "plt.xlabel('K clusters')\n",
        "plt.ylabel('Sum of squared distance')\n",
        "plt.axvline(kneedle.knee, color='black', linestyle='--', label='Knee Point')"
      ],
      "metadata": {
        "colab": {
          "base_uri": "https://localhost:8080/",
          "height": 466
        },
        "id": "7X2m0fJth8rR",
        "outputId": "9e6a7df3-7af1-4dc2-cf41-1b849e4f9ed2"
      },
      "execution_count": 70,
      "outputs": [
        {
          "output_type": "execute_result",
          "data": {
            "text/plain": [
              "<matplotlib.lines.Line2D at 0x7ffb0764b0d0>"
            ]
          },
          "metadata": {},
          "execution_count": 70
        },
        {
          "output_type": "display_data",
          "data": {
            "text/plain": [
              "<Figure size 640x480 with 1 Axes>"
            ],
            "image/png": "[encoded data removed]"
          },
          "metadata": {}
        }
      ]
    }
  ]
}